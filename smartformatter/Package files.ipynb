{
 "cells": [
  {
   "cell_type": "code",
   "execution_count": 3,
   "id": "4ed4dc76-9357-49e3-bcd7-a88ba30e5dce",
   "metadata": {},
   "outputs": [
    {
     "name": "stdout",
     "output_type": "stream",
     "text": [
      "Overwriting __init__.py\n"
     ]
    }
   ],
   "source": [
    "%%writefile __init__.py\n",
    "\n",
    "from .core import format_name, format_phone, format_currency, number_to_words, slugify "
   ]
  },
  {
   "cell_type": "code",
   "execution_count": 6,
   "id": "0a438024-b615-427c-8629-ee85ca9edf92",
   "metadata": {},
   "outputs": [
    {
     "name": "stdout",
     "output_type": "stream",
     "text": [
      "Overwriting core.py\n"
     ]
    }
   ],
   "source": [
    "%%writefile core.py\n",
    "\n",
    "import re\n",
    "import inflect\n",
    "\n",
    "def format_name(name):\n",
    "    return ' '.join([w.capitalize() for w in name.strip().split()])\n",
    "\n",
    "def format_phone(phone):\n",
    "    digits=re.sub(r'\\D', '', phone)\n",
    "    return f\"+{digits[:2]} {digits[2:7]} {digits[7:]}\"\n",
    "\n",
    "def format_currency(amount, symbol='$'):\n",
    "    return f\"{symbol}{amount:,.2f}\"\n",
    "\n",
    "def number_to_words(n):\n",
    "    p=inflect.engine()\n",
    "    return p.number_to_words(n).replace(',', '')\n",
    "\n",
    "def slugify(text):\n",
    "    return re.sub(r'[^a-z0-9]+', '-', text.lower()).strip('-')"
   ]
  },
  {
   "cell_type": "code",
   "execution_count": null,
   "id": "2220660e-eb73-40b4-8b36-097e1615a32f",
   "metadata": {},
   "outputs": [],
   "source": []
  }
 ],
 "metadata": {
  "kernelspec": {
   "display_name": "Python [conda env:base] *",
   "language": "python",
   "name": "conda-base-py"
  },
  "language_info": {
   "codemirror_mode": {
    "name": "ipython",
    "version": 3
   },
   "file_extension": ".py",
   "mimetype": "text/x-python",
   "name": "python",
   "nbconvert_exporter": "python",
   "pygments_lexer": "ipython3",
   "version": "3.12.7"
  }
 },
 "nbformat": 4,
 "nbformat_minor": 5
}
