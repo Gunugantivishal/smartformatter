{
 "cells": [
  {
   "cell_type": "code",
   "execution_count": 1,
   "id": "009c536c-c734-4f52-a7d8-0b71bdd1235f",
   "metadata": {},
   "outputs": [],
   "source": [
    "import smartformatter"
   ]
  },
  {
   "cell_type": "code",
   "execution_count": 2,
   "id": "211be297-d367-4074-9c69-a08e6126069e",
   "metadata": {},
   "outputs": [],
   "source": [
    "from smartformatter import format_currency"
   ]
  },
  {
   "cell_type": "code",
   "execution_count": 3,
   "id": "5e68e841-ba7b-4657-85e5-f42e781b0471",
   "metadata": {},
   "outputs": [
    {
     "data": {
      "text/plain": [
       "'$38,793,474.00'"
      ]
     },
     "execution_count": 3,
     "metadata": {},
     "output_type": "execute_result"
    }
   ],
   "source": [
    "format_currency(38793474)"
   ]
  },
  {
   "cell_type": "code",
   "execution_count": 4,
   "id": "39101812-3f97-41d7-8a27-f35a6544cea2",
   "metadata": {},
   "outputs": [
    {
     "data": {
      "text/plain": [
       "'+91 87498 42209'"
      ]
     },
     "execution_count": 4,
     "metadata": {},
     "output_type": "execute_result"
    }
   ],
   "source": [
    "smartformatter.format_phone(\"+91874984hw2#$209\")"
   ]
  },
  {
   "cell_type": "code",
   "execution_count": null,
   "id": "0e1d97cc-15f1-4f87-b662-388cb9b5c313",
   "metadata": {},
   "outputs": [],
   "source": []
  }
 ],
 "metadata": {
  "kernelspec": {
   "display_name": "Python [conda env:base] *",
   "language": "python",
   "name": "conda-base-py"
  },
  "language_info": {
   "codemirror_mode": {
    "name": "ipython",
    "version": 3
   },
   "file_extension": ".py",
   "mimetype": "text/x-python",
   "name": "python",
   "nbconvert_exporter": "python",
   "pygments_lexer": "ipython3",
   "version": "3.12.7"
  }
 },
 "nbformat": 4,
 "nbformat_minor": 5
}
